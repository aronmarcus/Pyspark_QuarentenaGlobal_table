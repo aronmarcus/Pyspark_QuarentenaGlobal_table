{
 "cells": [
  {
   "cell_type": "code",
   "execution_count": 0,
   "metadata": {
    "application/vnd.databricks.v1+cell": {
     "cellMetadata": {},
     "inputWidgets": {},
     "nuid": "c8052a41-0275-4b41-b89e-b9278701154f",
     "showTitle": false,
     "title": ""
    }
   },
   "outputs": [],
   "source": [
    "# etl/transformacao.ipynb\n",
    "\n",
    "# Limpeza e padronização dos dados CRM\n",
    "cleaned_crm_data \t  = crm_spark_df.dropDuplicates().filter(col('data_base') == current_date())\n",
    "standardized_crm_data = (\n",
    "\tcleaned_crm_data.withColumn(\"qtd_dias\", datediff(current_date(), col(\"data_envio\")))\n",
    "\t\t\t\t\t.select(\"id_cliente\", \"email\", \"telefone\", \"assunto\",\"data_envio\", \"qtd_dias\")\n",
    "\t\t\t\t\t    )\n",
    "\t\t\t\t\t\n",
    "\n",
    "# Limpeza e padronização dos dados de Marketing Cloud utilizando expressão SQL\n",
    "cleaned_marketing_data \t\t= marketing_spark_df.dropDuplicates().filter(marketing_spark_df.email.isNotNull())\n",
    "standardized_marketing_data = (\n",
    "\tcleaned_marketing_data.selectExpr(\n",
    "\t\t\"id_cliente\",\"email\", \"telefone\", \"subject as assunto\",\n",
    "\t\t\"data_envio\", \"date_diff(today(), data_envio) as qtd_dias\")\n",
    "\t\t\t)\n",
    "\n",
    "\n",
    "# Limpeza e padronização dos dados de suspeita de fraude\n",
    "cleaned_fraude_data = fraude_data.filter(col('data_exclus').isNull())\n",
    "standardized_fraude_data = (\n",
    "\tcleaned_fraude_data.withColumnRenamed(\"dt_inclus\", \"data_envio\")\n",
    "\t\t\t\t\t   .withColumn(\"qtd_dias\", datediff(current_date(), col(\"data_envio\")))\n",
    "\t\t\t\t\t   .withColumn(\"assunto\", lit('suspeita de fraude'))\n",
    "\t\t\t\t\t)\n",
    "\n",
    "\n",
    "# Limpeza e padronização da lista de restritos\n",
    "standardized_restritos_data = (\n",
    "\trestritos_data.select('id_cliente'\n",
    "\t\t\t,lit(\"Restritos\").alias('canal')\n",
    "\t\t\t,col('contatos.email').alias('email')\n",
    "\t\t\t,col('contatos.numero_telefone').alias('telefone')\n",
    "\t\t\t,col('motivos.descricao').alias('assunto')\n",
    "\t\t\t,col('contatos.data_solicitacao').cast('date').alias('data_envio'))\n",
    "\t\t).distinct()\n",
    "\t\t\t\t\t\n",
    "\n",
    "# Aplicação das regras de quarentena\n",
    "quarentena_crm \t\t \t= standardized_crm_data.withColumn(\"saida_prevista\", date_add(current_date(), 30))\n",
    "quarentena_marketing \t= standardized_marketing_data.withColumn(\"saida_prevista\", date_add(current_date(), 7))\n",
    "quarentena_recomendacao = recomendacao_data.withColumn(\"saida_prevista\", date_add(current_date(), 15))\n",
    "quarentena_fraude \t\t= standardized_fraude_data.withColumn(\"saida_prevista\", lit(None)).drop('data_exclus')\n",
    "quarentena_restritos \t= standardized_restritos_data.withColumn(\"qtd_dias\", datediff(current_date(), col(\"data_envio\")))\\\n",
    "\t\t\t\t\t\t\t\t\t\t\t\t\t .withColumn(\"saida_prevista\", lit(90))\n",
    "\n",
    "\n",
    "# Unificação dos dados em uma única estrutura\n",
    "consolidated_data = (\n",
    "\tquarentena_crm.where(col(\"qtd_dias\") <= 30)\n",
    "\t\t\t\t  .union(quarentena_marketing.filter   ( col(\"qtd_dias\") <= 7 ) )\n",
    "\t\t\t\t  .union(quarentena_recomendacao.filter( col(\"qtd_dias\") <= 15) )\n",
    "\t\t\t\t  .union(quarentena_restritos.filter   ( col(\"qtd_dias\") <= 90) )\n",
    "\t\t\t\t  .union(quarentena_ofertas.filter     ( col(\"qtd_dias\") <= 5 ) )\n",
    "\t\t\t\t  .union(quarentena_fraude)\n",
    "\t\t\t\t  \n",
    "\t\t).withColumn(\"data_carga\" lit(f'{current_date()}').cast('date'))"
   ]
  }
 ],
 "metadata": {
  "application/vnd.databricks.v1+notebook": {
   "dashboards": [],
   "environmentMetadata": null,
   "language": "python",
   "notebookMetadata": {
    "pythonIndentUnit": 4
   },
   "notebookName": "etl_transformacao",
   "widgets": {}
  }
 },
 "nbformat": 4,
 "nbformat_minor": 0
}
