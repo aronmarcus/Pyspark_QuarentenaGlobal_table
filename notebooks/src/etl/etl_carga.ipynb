{
 "cells": [
  {
   "cell_type": "code",
   "execution_count": 0,
   "metadata": {
    "application/vnd.databricks.v1+cell": {
     "cellMetadata": {},
     "inputWidgets": {},
     "nuid": "b845a5c5-5940-4312-9fc5-bc0f058bcb49",
     "showTitle": false,
     "title": ""
    }
   },
   "outputs": [],
   "source": [
    "# etl/carga.ipynb\n",
    "\n",
    "# Criação de view temporária\n",
    "consolidated_data.createOrReplaceTempView('quarentena_global_tempview')\n",
    "\n",
    "\n",
    "# Criação da tabela permanente no Unity Catalog\n",
    "spark.sql(\"\"\"\n",
    "CREATE TABLE IF NOT EXIST catalog.database.quarentena_global (\n",
    "    cpf STRING,\n",
    "    canal STRING,\n",
    "    email STRING,\n",
    "    telefone STRING,\n",
    "    assunto STRING,\n",
    "    data_envio DATE,\n",
    "    qtd_dias INT,\n",
    "    saida_prevista DATE,\n",
    "    data_carga DATE,\n",
    "    PRIMARY KEY (cpf, canal)\n",
    ")\n",
    "PARTITIONED BY (data_carga, canal)\n",
    "LOCATION '/user/hive/warehouse'\n",
    "\"\"\")\n",
    "\n",
    "# Inserção dos dados da view temporária na tabela permanente\n",
    "spark.sql(\"\"\"\n",
    "INSERT INTO catalog.database.quarentena_global\n",
    "SELECT * FROM quarentena_global_tempview\n",
    "\"\"\")\n",
    "\n",
    "# Mensagem de sucesso\n",
    "print(\"Tabela quarentena_global criada com sucesso e dados inseridos.\")\n",
    "\n",
    "# Encerramento do spark\n",
    "spark.stop()"
   ]
  }
 ],
 "metadata": {
  "application/vnd.databricks.v1+notebook": {
   "dashboards": [],
   "environmentMetadata": null,
   "language": "python",
   "notebookMetadata": {
    "pythonIndentUnit": 4
   },
   "notebookName": "etl_carga",
   "widgets": {}
  }
 },
 "nbformat": 4,
 "nbformat_minor": 0
}
