{
 "cells": [
  {
   "cell_type": "code",
   "execution_count": 0,
   "metadata": {
    "application/vnd.databricks.v1+cell": {
     "cellMetadata": {},
     "inputWidgets": {},
     "nuid": "3fbdc25f-f7d1-4a16-8383-74d63b1b9e20",
     "showTitle": false,
     "title": ""
    }
   },
   "outputs": [],
   "source": [
    "# config/funcoes.ipynb\n",
    "\t\n",
    "# Conexão com SharePoint\n",
    "def connect_to_sharepoint(site_url, username, password):\n",
    "    ctx_auth = AuthenticationContext(site_url)\n",
    "    ctx_auth.acquire_token_for_user(username, password)\n",
    "    ctx = ClientContext(site_url, ctx_auth)\n",
    "    return ctx\n",
    "\n",
    "def download_file_from_sharepoint(ctx, file_url, local_path):\n",
    "    file = ctx.web.get_file_by_server_relative_url(file_url).execute_query()\n",
    "    with open(local_path, \"wb\") as local_file:\n",
    "        file.download(local_file).execute_query()\n",
    "\n",
    "# Conexão com SFTP\n",
    "def connect_to_sftp(host, port, username, password):\n",
    "    transport = paramiko.Transport((host, port))\n",
    "    transport.connect(username=username, password=password)\n",
    "    sftp = paramiko.SFTPClient.from_transport(transport)\n",
    "    return sftp\n",
    "\n",
    "def download_file_from_sftp(sftp, remote_path, local_path):\n",
    "    sftp.get(remote_path, local_path)\n",
    "    sftp.close()\n",
    "    transport.close()"
   ]
  }
 ],
 "metadata": {
  "application/vnd.databricks.v1+notebook": {
   "dashboards": [],
   "environmentMetadata": null,
   "language": "python",
   "notebookMetadata": {
    "pythonIndentUnit": 4
   },
   "notebookName": "funcoes",
   "widgets": {}
  }
 },
 "nbformat": 4,
 "nbformat_minor": 0
}
