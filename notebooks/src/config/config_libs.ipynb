{
 "cells": [
  {
   "cell_type": "code",
   "execution_count": 0,
   "metadata": {
    "application/vnd.databricks.v1+cell": {
     "cellMetadata": {},
     "inputWidgets": {},
     "nuid": "30a09025-f86f-4c33-afe2-dba1fef7eed7",
     "showTitle": false,
     "title": ""
    }
   },
   "outputs": [],
   "source": [
    "# config/leitura_libs_variaveis.ipynb\n",
    "\n",
    "import pandas as pd\n",
    "import paramiko\n",
    "from office365.sharepoint.client_context import ClientContext\n",
    "from office365.runtime.auth.authentication_context import AuthenticationContext\n",
    "from pyspark.sql import SparkSession\n",
    "from pyspark.sql.functions import col, to_date, current_date, date_add, datediff\n",
    "\n",
    "# Configuração do Spark\n",
    "spark = SparkSession.builder.appName(\"QuarentenaGlobal\").getOrCreate()"
   ]
  }
 ],
 "metadata": {
  "application/vnd.databricks.v1+notebook": {
   "dashboards": [],
   "environmentMetadata": null,
   "language": "python",
   "notebookMetadata": {
    "pythonIndentUnit": 4
   },
   "notebookName": "config_libs",
   "widgets": {}
  }
 },
 "nbformat": 4,
 "nbformat_minor": 0
}
